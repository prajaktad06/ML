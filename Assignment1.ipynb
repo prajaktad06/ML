{
  "nbformat": 4,
  "nbformat_minor": 0,
  "metadata": {
    "colab": {
      "name": "Assignment1.ipynb",
      "provenance": [],
      "collapsed_sections": [],
      "authorship_tag": "ABX9TyNS1MlFxUXGXcgC6eB3LID2",
      "include_colab_link": true
    },
    "kernelspec": {
      "name": "python3",
      "display_name": "Python 3"
    }
  },
  "cells": [
    {
      "cell_type": "markdown",
      "metadata": {
        "id": "view-in-github",
        "colab_type": "text"
      },
      "source": [
        "<a href=\"https://colab.research.google.com/github/prajaktad06/ML/blob/master/Assignment1.ipynb\" target=\"_parent\"><img src=\"https://colab.research.google.com/assets/colab-badge.svg\" alt=\"Open In Colab\"/></a>"
      ]
    },
    {
      "cell_type": "markdown",
      "metadata": {
        "id": "JYCkR-Pq5tx3",
        "colab_type": "text"
      },
      "source": [
        "1. Write a program which will find all such numbers which are divisible by 7 but are not a multiple\n",
        "of 5, between 2000 and 3200 (both included). The numbers obtained should be printed in a\n",
        "comma-separated sequence on a single line.\n"
      ]
    },
    {
      "cell_type": "code",
      "metadata": {
        "id": "md2YcZvK5ufu",
        "colab_type": "code",
        "outputId": "53593aa3-1139-4731-9f3e-747fb6efc55c",
        "colab": {
          "base_uri": "https://localhost:8080/",
          "height": 54
        }
      },
      "source": [
        "i=[]\n",
        "for x in range(2000,3200) :\n",
        "    if x%7 ==0 and  x%5 !=0 :\n",
        "      i.append(x)\n",
        "      \n",
        "print(i)"
      ],
      "execution_count": 1,
      "outputs": [
        {
          "output_type": "stream",
          "text": [
            "[2002, 2009, 2016, 2023, 2037, 2044, 2051, 2058, 2072, 2079, 2086, 2093, 2107, 2114, 2121, 2128, 2142, 2149, 2156, 2163, 2177, 2184, 2191, 2198, 2212, 2219, 2226, 2233, 2247, 2254, 2261, 2268, 2282, 2289, 2296, 2303, 2317, 2324, 2331, 2338, 2352, 2359, 2366, 2373, 2387, 2394, 2401, 2408, 2422, 2429, 2436, 2443, 2457, 2464, 2471, 2478, 2492, 2499, 2506, 2513, 2527, 2534, 2541, 2548, 2562, 2569, 2576, 2583, 2597, 2604, 2611, 2618, 2632, 2639, 2646, 2653, 2667, 2674, 2681, 2688, 2702, 2709, 2716, 2723, 2737, 2744, 2751, 2758, 2772, 2779, 2786, 2793, 2807, 2814, 2821, 2828, 2842, 2849, 2856, 2863, 2877, 2884, 2891, 2898, 2912, 2919, 2926, 2933, 2947, 2954, 2961, 2968, 2982, 2989, 2996, 3003, 3017, 3024, 3031, 3038, 3052, 3059, 3066, 3073, 3087, 3094, 3101, 3108, 3122, 3129, 3136, 3143, 3157, 3164, 3171, 3178, 3192, 3199]\n"
          ],
          "name": "stdout"
        }
      ]
    },
    {
      "cell_type": "markdown",
      "metadata": {
        "id": "3MPxiJA35vXc",
        "colab_type": "text"
      },
      "source": [
        "2. Write a Python program to accept the user's first and last name and then getting them printed in\n",
        "the the reverse order with a space between first name and last name.\n",
        "\n"
      ]
    },
    {
      "cell_type": "code",
      "metadata": {
        "id": "1oHJ53qTAYQy",
        "colab_type": "code",
        "outputId": "3042a512-5c49-4a19-f430-786ca10d72b4",
        "colab": {
          "base_uri": "https://localhost:8080/",
          "height": 51
        }
      },
      "source": [
        "i=input(\"Enter Name and Surname \")\n",
        "i=i[::-1]\n",
        "print(i)\n"
      ],
      "execution_count": 2,
      "outputs": [
        {
          "output_type": "stream",
          "text": [
            "Enter Name and Surname prajakta deshpande\n",
            "ednaphsed atkajarp\n"
          ],
          "name": "stdout"
        }
      ]
    },
    {
      "cell_type": "markdown",
      "metadata": {
        "id": "3qBIA1VqBVbp",
        "colab_type": "text"
      },
      "source": [
        "3. Write a Python program to find the volume of a sphere with diameter 12 cm.\n",
        "Formula: V=4/3 * π * r\n",
        "3"
      ]
    },
    {
      "cell_type": "markdown",
      "metadata": {
        "id": "RWUIjTH-BZqX",
        "colab_type": "text"
      },
      "source": [
        ""
      ]
    },
    {
      "cell_type": "code",
      "metadata": {
        "id": "Ah5Lcx8TB7ht",
        "colab_type": "code",
        "outputId": "d5d37a58-34f4-46ec-99f2-a80d6112c797",
        "colab": {
          "base_uri": "https://localhost:8080/",
          "height": 34
        }
      },
      "source": [
        "import math \n",
        "volume=(4/3)*math.pi*(12/2)**3\n",
        "volume"
      ],
      "execution_count": 3,
      "outputs": [
        {
          "output_type": "execute_result",
          "data": {
            "text/plain": [
              "904.7786842338603"
            ]
          },
          "metadata": {
            "tags": []
          },
          "execution_count": 3
        }
      ]
    }
  ]
}