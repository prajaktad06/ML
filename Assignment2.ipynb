{
  "nbformat": 4,
  "nbformat_minor": 0,
  "metadata": {
    "colab": {
      "name": "Assignment2.ipynb",
      "provenance": [],
      "collapsed_sections": [],
      "authorship_tag": "ABX9TyNa9nBdVslvEh5Jv6XRciJk",
      "include_colab_link": true
    },
    "kernelspec": {
      "name": "python3",
      "display_name": "Python 3"
    }
  },
  "cells": [
    {
      "cell_type": "markdown",
      "metadata": {
        "id": "view-in-github",
        "colab_type": "text"
      },
      "source": [
        "<a href=\"https://colab.research.google.com/github/prajaktad06/ML/blob/master/Assignment2.ipynb\" target=\"_parent\"><img src=\"https://colab.research.google.com/assets/colab-badge.svg\" alt=\"Open In Colab\"/></a>"
      ]
    },
    {
      "cell_type": "markdown",
      "metadata": {
        "id": "RzFoxWiE3ch5",
        "colab_type": "text"
      },
      "source": [
        "Create the below pattern using nested for loop in Python. *\n"
      ]
    },
    {
      "cell_type": "code",
      "metadata": {
        "id": "kpSjSVhIA5RO",
        "colab_type": "code",
        "outputId": "d6be2b03-3b64-4b87-9244-c02a43b37263",
        "colab": {
          "base_uri": "https://localhost:8080/",
          "height": 357
        }
      },
      "source": [
        "for i in range(0,5):\n",
        "    for j in range(0,i+1):  \n",
        "      print(\"*\", end= \" \")\n",
        "    print(\"\\n\")\n",
        "for j in range(5,0,-1):\n",
        "    for k in range(j-1):\n",
        "      print(\"*\", end=\" \")\n",
        "    print(\"\\n\")\n",
        "\n"
      ],
      "execution_count": 0,
      "outputs": [
        {
          "output_type": "stream",
          "text": [
            "* \n",
            "\n",
            "* * \n",
            "\n",
            "* * * \n",
            "\n",
            "* * * * \n",
            "\n",
            "* * * * * \n",
            "\n",
            "* * * * \n",
            "\n",
            "* * * \n",
            "\n",
            "* * \n",
            "\n",
            "* \n",
            "\n",
            "\n",
            "\n"
          ],
          "name": "stdout"
        }
      ]
    },
    {
      "cell_type": "markdown",
      "metadata": {
        "id": "k7-MfApm3_5S",
        "colab_type": "text"
      },
      "source": [
        "2. Write a Python program to reverse a word after accepting the input from the user.\n",
        "Sample Input\n",
        "Input word: ineuron\n",
        "Output: norueni"
      ]
    },
    {
      "cell_type": "code",
      "metadata": {
        "id": "YCjzMAMj6UAX",
        "colab_type": "code",
        "outputId": "5e0f604e-2133-462c-c1c6-42a2869d52f4",
        "colab": {
          "base_uri": "https://localhost:8080/",
          "height": 68
        }
      },
      "source": [
        "a=[]\n",
        "a=input(\"Enter A word  \\n\")\n",
        "a[::-1]"
      ],
      "execution_count": 0,
      "outputs": [
        {
          "output_type": "stream",
          "text": [
            "Enter A word  \n",
            "Hello\n"
          ],
          "name": "stdout"
        },
        {
          "output_type": "execute_result",
          "data": {
            "text/plain": [
              "'olleH'"
            ]
          },
          "metadata": {
            "tags": []
          },
          "execution_count": 2
        }
      ]
    }
  ]
}